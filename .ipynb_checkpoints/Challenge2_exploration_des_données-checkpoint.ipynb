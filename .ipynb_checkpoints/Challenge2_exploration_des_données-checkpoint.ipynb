{
 "cells": [
  {
   "cell_type": "markdown",
   "id": "62c8c3df",
   "metadata": {},
   "source": [
    "### Calcul de moyennes\n",
    "\n",
    "\n",
    "        . Calcul de moyennes sur la table facts de la base de données factbook.db\n",
    "        . En SQL, calculez les moyennes descolonnes population, population_growth, birth_rate, et death_rate.\n",
    "        . Puis en python exécuter cette requette SQL.\n",
    "        . Enfin récupérer les résultats dans les variables pop_avg, pop_growth_avg, birth_rate_avg et death_rate_avg et les afficher."
   ]
  },
  {
   "cell_type": "code",
   "execution_count": 1,
   "id": "a3e05ddf",
   "metadata": {},
   "outputs": [
    {
     "ename": "AttributeError",
     "evalue": "'sqlite3.Cursor' object has no attribute 'fecthall'",
     "output_type": "error",
     "traceback": [
      "\u001b[1;31m---------------------------------------------------------------------------\u001b[0m",
      "\u001b[1;31mAttributeError\u001b[0m                            Traceback (most recent call last)",
      "\u001b[1;32m~\\AppData\\Local\\Temp\\ipykernel_12080\\152187941.py\u001b[0m in \u001b[0;36m<module>\u001b[1;34m\u001b[0m\n\u001b[0;32m      4\u001b[0m \u001b[0maverages\u001b[0m \u001b[1;33m=\u001b[0m \u001b[1;34m\"select avg(population), avg(population_growth), avg(birth_rate), avg(death_rate) from facts;\"\u001b[0m\u001b[1;33m\u001b[0m\u001b[1;33m\u001b[0m\u001b[0m\n\u001b[0;32m      5\u001b[0m \u001b[1;33m\u001b[0m\u001b[0m\n\u001b[1;32m----> 6\u001b[1;33m \u001b[0mavg_results\u001b[0m \u001b[1;33m=\u001b[0m \u001b[0mconnexion\u001b[0m\u001b[1;33m.\u001b[0m\u001b[0mexecute\u001b[0m\u001b[1;33m(\u001b[0m\u001b[0maverages\u001b[0m\u001b[1;33m)\u001b[0m\u001b[1;33m.\u001b[0m\u001b[0mfecthall\u001b[0m\u001b[1;33m(\u001b[0m\u001b[1;33m)\u001b[0m\u001b[1;33m\u001b[0m\u001b[1;33m\u001b[0m\u001b[0m\n\u001b[0m\u001b[0;32m      7\u001b[0m \u001b[0mpop_avg\u001b[0m \u001b[1;33m=\u001b[0m \u001b[0mavg_results\u001b[0m\u001b[1;33m[\u001b[0m\u001b[1;36m0\u001b[0m\u001b[1;33m]\u001b[0m\u001b[1;33m[\u001b[0m\u001b[1;36m0\u001b[0m\u001b[1;33m]\u001b[0m\u001b[1;33m\u001b[0m\u001b[1;33m\u001b[0m\u001b[0m\n\u001b[0;32m      8\u001b[0m \u001b[0mpop_growth_avg\u001b[0m \u001b[1;33m=\u001b[0m \u001b[0mavg_results\u001b[0m\u001b[1;33m[\u001b[0m\u001b[1;36m0\u001b[0m\u001b[1;33m]\u001b[0m\u001b[1;33m[\u001b[0m\u001b[1;36m1\u001b[0m\u001b[1;33m]\u001b[0m\u001b[1;33m\u001b[0m\u001b[1;33m\u001b[0m\u001b[0m\n",
      "\u001b[1;31mAttributeError\u001b[0m: 'sqlite3.Cursor' object has no attribute 'fecthall'"
     ]
    }
   ],
   "source": [
    "import sqlite3\n",
    "\n",
    "connexion = sqlite3.connect('factbook.db')\n",
    "averages = \"select avg(population), avg(population_growth), avg(birth_rate), avg(death_rate) from facts;\"\n",
    "\n",
    "avg_results = connexion.execute(averages).fecthall()\n",
    "pop_avg = avg_results[0][0]\n",
    "pop_growth_avg = avg_results[0][1]\n",
    "birth_rate_avg = avg_results[0][2]\n",
    "death_rate_avg = avg_results[0][3]\n",
    "\n",
    "print(pop_avg)\n",
    "print(pop_growth_avg)\n",
    "print(birth_rate_avg)\n",
    "print(death_rate_avg)\n"
   ]
  },
  {
   "cell_type": "code",
   "execution_count": null,
   "id": "7606904d",
   "metadata": {},
   "outputs": [],
   "source": []
  }
 ],
 "metadata": {
  "kernelspec": {
   "display_name": "Python 3 (ipykernel)",
   "language": "python",
   "name": "python3"
  },
  "language_info": {
   "codemirror_mode": {
    "name": "ipython",
    "version": 3
   },
   "file_extension": ".py",
   "mimetype": "text/x-python",
   "name": "python",
   "nbconvert_exporter": "python",
   "pygments_lexer": "ipython3",
   "version": "3.9.13"
  }
 },
 "nbformat": 4,
 "nbformat_minor": 5
}
