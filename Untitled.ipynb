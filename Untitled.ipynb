{
 "cells": [
  {
   "cell_type": "markdown",
   "id": "16d6dab5",
   "metadata": {},
   "source": [
    "### Connexion à la base de données"
   ]
  },
  {
   "cell_type": "code",
   "execution_count": 1,
   "id": "10e4e139",
   "metadata": {},
   "outputs": [],
   "source": [
    "import sqlite3"
   ]
  },
  {
   "cell_type": "code",
   "execution_count": 3,
   "id": "53ac3053",
   "metadata": {},
   "outputs": [],
   "source": [
    "# connect() qui contient en parametre un fichier qui est la base de données\n",
    "\n",
    "connexion = sqlite3.connect('jobs.db')"
   ]
  },
  {
   "cell_type": "markdown",
   "id": "ce9cdce2",
   "metadata": {},
   "source": [
    "### Créer un Curseur et exécuter une requete SQL sur Python"
   ]
  },
  {
   "cell_type": "code",
   "execution_count": 5,
   "id": "a41298af",
   "metadata": {},
   "outputs": [],
   "source": [
    "liste = [1, 'tomates']"
   ]
  },
  {
   "cell_type": "code",
   "execution_count": 6,
   "id": "be53aaa0",
   "metadata": {},
   "outputs": [],
   "source": [
    "t = () # un tuple vide"
   ]
  },
  {
   "cell_type": "code",
   "execution_count": 10,
   "id": "137c9d84",
   "metadata": {},
   "outputs": [],
   "source": [
    "t = ('Pomme', 'Banane') # l'intéret d'ituliser les tuples que les listes est que les tuples sont plus rapide que les listes\n",
    "# ce qui est bcp plus optimal pour de grandes bases de données."
   ]
  },
  {
   "cell_type": "code",
   "execution_count": 8,
   "id": "57364655",
   "metadata": {},
   "outputs": [
    {
     "name": "stdout",
     "output_type": "stream",
     "text": [
      "Pomme\n"
     ]
    }
   ],
   "source": [
    "apple = t[0]\n",
    "print(apple)"
   ]
  },
  {
   "cell_type": "code",
   "execution_count": 9,
   "id": "c111470d",
   "metadata": {},
   "outputs": [
    {
     "name": "stdout",
     "output_type": "stream",
     "text": [
      "Banane\n"
     ]
    }
   ],
   "source": [
    "banana = t[1]\n",
    "print(banana)"
   ]
  },
  {
   "cell_type": "code",
   "execution_count": 11,
   "id": "0ece6f60",
   "metadata": {},
   "outputs": [],
   "source": [
    "cursor = connexion.cursor()"
   ]
  },
  {
   "cell_type": "code",
   "execution_count": 12,
   "id": "41de61c0",
   "metadata": {},
   "outputs": [],
   "source": [
    "# requete SQL qu'on assigne à la variable query en tant que chaine de caractères - string\n",
    "\n",
    "query = \"select * from recent_grads;\""
   ]
  },
  {
   "cell_type": "code",
   "execution_count": 13,
   "id": "163d4d0f",
   "metadata": {},
   "outputs": [
    {
     "data": {
      "text/plain": [
       "<sqlite3.Cursor at 0x184769bac70>"
      ]
     },
     "execution_count": 13,
     "metadata": {},
     "output_type": "execute_result"
    }
   ],
   "source": [
    "# exécute la requete SQL situé dans la variable query et ce curseur convertit les résultats en tuples et les stockent \n",
    "# dans une variable locale\n",
    "\n",
    "cursor.execute(query)"
   ]
  },
  {
   "cell_type": "code",
   "execution_count": 14,
   "id": "92c4881a",
   "metadata": {},
   "outputs": [],
   "source": [
    "# Chercher tous les résultats qu'on a récuperé sous la forme d'une liste de tuples et qu'on assigne à la variable results\n",
    "results = cursor.fetchall()"
   ]
  },
  {
   "cell_type": "code",
   "execution_count": 15,
   "id": "4c048340",
   "metadata": {},
   "outputs": [],
   "source": [
    "# list_of_tuples = [(1,2,3), (\"été\",\"printemps\"), ...]"
   ]
  },
  {
   "cell_type": "code",
   "execution_count": 17,
   "id": "a8dd837c",
   "metadata": {},
   "outputs": [
    {
     "name": "stdout",
     "output_type": "stream",
     "text": [
      "[(0, 1, 2419, 'PETROLEUM ENGINEERING', 'Engineering', 2339, 36, 2057, 282, 0.120564344, 1976, 1849, 270, 1207, 37, 0.018380527, 110000, 95000, 125000, 1534, 364, 193), (1, 2, 2416, 'MINING AND MINERAL ENGINEERING', 'Engineering', 756, 7, 679, 77, 0.10185185199999999, 640, 556, 170, 388, 85, 0.117241379, 75000, 55000, 90000, 350, 257, 50), (2, 3, 2415, 'METALLURGICAL ENGINEERING', 'Engineering', 856, 3, 725, 131, 0.153037383, 648, 558, 133, 340, 16, 0.024096386, 73000, 50000, 105000, 456, 176, 0), (3, 4, 2417, 'NAVAL ARCHITECTURE AND MARINE ENGINEERING', 'Engineering', 1258, 16, 1123, 135, 0.107313196, 758, 1069, 150, 692, 40, 0.050125313, 70000, 43000, 80000, 529, 102, 0), (4, 5, 2405, 'CHEMICAL ENGINEERING', 'Engineering', 32260, 289, 21239, 11021, 0.341630502, 25694, 23170, 5180, 16697, 1672, 0.061097712, 65000, 50000, 75000, 18314, 4440, 972)]\n"
     ]
    }
   ],
   "source": [
    "print(results[0:5])"
   ]
  },
  {
   "cell_type": "markdown",
   "id": "ba53f9cd",
   "metadata": {},
   "source": [
    "    . Ecrire une requete qui retourne toutes les valeurs de la colonne Major depuis la table recent_grads.\n",
    "    . Stocker les résultats (liste de tuples) et assigner les à la variable majors.\n",
    "    . Enfin afficher les 5 premeirs tuples résultats de majors."
   ]
  },
  {
   "cell_type": "code",
   "execution_count": 19,
   "id": "acba5760",
   "metadata": {},
   "outputs": [
    {
     "name": "stdout",
     "output_type": "stream",
     "text": [
      "[('PETROLEUM ENGINEERING',), ('MINING AND MINERAL ENGINEERING',), ('METALLURGICAL ENGINEERING',), ('NAVAL ARCHITECTURE AND MARINE ENGINEERING',), ('CHEMICAL ENGINEERING',)]\n"
     ]
    }
   ],
   "source": [
    "query2 = 'select Major from recent_grads;'\n",
    "majors = cursor.execute(query2).fetchall()\n",
    "print(majors[0:5])"
   ]
  },
  {
   "cell_type": "markdown",
   "id": "ad0ac0e2",
   "metadata": {},
   "source": [
    "### Cherecher un certain nombre de résultats via Python sur SQL"
   ]
  },
  {
   "cell_type": "code",
   "execution_count": 20,
   "id": "fb810d3e",
   "metadata": {},
   "outputs": [],
   "source": [
    "# fetchone() qui retourne un seul élément\n",
    "# fetchmany(n) qui retourne le nombre d'élément indiqué en paramètre\n",
    "# notons qu'à chaque fois que l'on utilise cette méthode elle incrémente au fure et à mesure"
   ]
  },
  {
   "cell_type": "code",
   "execution_count": 25,
   "id": "76a604a5",
   "metadata": {},
   "outputs": [
    {
     "data": {
      "text/plain": [
       "<sqlite3.Cursor at 0x184769fddc0>"
      ]
     },
     "execution_count": 25,
     "metadata": {},
     "output_type": "execute_result"
    }
   ],
   "source": [
    "import sqlite3\n",
    "connexion = sqlite3.connect('jobs.db')\n",
    "cursor = connexion.cursor()\n",
    "query = 'select Major, Major_category from recent_grads;'\n",
    "cursor.execute(query)"
   ]
  },
  {
   "cell_type": "code",
   "execution_count": 27,
   "id": "0573cfbb",
   "metadata": {},
   "outputs": [],
   "source": [
    "first_result = cursor.fetchone()\n"
   ]
  },
  {
   "cell_type": "code",
   "execution_count": 28,
   "id": "9162f6b2",
   "metadata": {},
   "outputs": [],
   "source": [
    "second_result = cursor.fetchone()"
   ]
  },
  {
   "cell_type": "code",
   "execution_count": 29,
   "id": "02d00e9b",
   "metadata": {},
   "outputs": [
    {
     "name": "stdout",
     "output_type": "stream",
     "text": [
      "('MINING AND MINERAL ENGINEERING', 'Engineering')\n",
      "('METALLURGICAL ENGINEERING', 'Engineering')\n"
     ]
    }
   ],
   "source": [
    "print(first_result)\n",
    "print(second_result)"
   ]
  },
  {
   "cell_type": "code",
   "execution_count": 30,
   "id": "ab5ce890",
   "metadata": {},
   "outputs": [
    {
     "name": "stdout",
     "output_type": "stream",
     "text": [
      "[('NAVAL ARCHITECTURE AND MARINE ENGINEERING', 'Engineering'), ('CHEMICAL ENGINEERING', 'Engineering'), ('NUCLEAR ENGINEERING', 'Engineering'), ('ACTUARIAL SCIENCE', 'Business'), ('ASTRONOMY AND ASTROPHYSICS', 'Physical Sciences')]\n"
     ]
    }
   ],
   "source": [
    "next_five_results = cursor.fetchmany(5)\n",
    "print(next_five_results)"
   ]
  },
  {
   "cell_type": "code",
   "execution_count": null,
   "id": "8283b5de",
   "metadata": {},
   "outputs": [],
   "source": []
  }
 ],
 "metadata": {
  "kernelspec": {
   "display_name": "Python 3 (ipykernel)",
   "language": "python",
   "name": "python3"
  },
  "language_info": {
   "codemirror_mode": {
    "name": "ipython",
    "version": 3
   },
   "file_extension": ".py",
   "mimetype": "text/x-python",
   "name": "python",
   "nbconvert_exporter": "python",
   "pygments_lexer": "ipython3",
   "version": "3.9.13"
  }
 },
 "nbformat": 4,
 "nbformat_minor": 5
}
