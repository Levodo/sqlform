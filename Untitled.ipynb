{
 "cells": [
  {
   "cell_type": "markdown",
   "id": "7514e934",
   "metadata": {},
   "source": [
    "### Connexion à la base de données"
   ]
  },
  {
   "cell_type": "code",
   "execution_count": 1,
   "id": "0de04ee4",
   "metadata": {},
   "outputs": [],
   "source": [
    "import sqlite3"
   ]
  },
  {
   "cell_type": "code",
   "execution_count": 3,
   "id": "10772dab",
   "metadata": {},
   "outputs": [],
   "source": [
    "# connect() qui contient en parametre un fichier qui est la base de données\n",
    "\n",
    "connexion = sqlite3.connect('jobs.db')"
   ]
  },
  {
   "cell_type": "markdown",
   "id": "3072a985",
   "metadata": {},
   "source": [
    "### Créer un Curseur et exécuter une requete SQL sur Python"
   ]
  },
  {
   "cell_type": "code",
   "execution_count": 5,
   "id": "da038aec",
   "metadata": {},
   "outputs": [],
   "source": [
    "liste = [1, 'tomates']"
   ]
  },
  {
   "cell_type": "code",
   "execution_count": 6,
   "id": "8c5c252e",
   "metadata": {},
   "outputs": [],
   "source": [
    "t = () # un tuple vide"
   ]
  },
  {
   "cell_type": "code",
   "execution_count": 10,
   "id": "397f089c",
   "metadata": {},
   "outputs": [],
   "source": [
    "t = ('Pomme', 'Banane') # l'intéret d'ituliser les tuples que les listes est que les tuples sont plus rapide que les listes\n",
    "# ce qui est bcp plus optimal pour de grandes bases de données."
   ]
  },
  {
   "cell_type": "code",
   "execution_count": 8,
   "id": "79418fcc",
   "metadata": {},
   "outputs": [
    {
     "name": "stdout",
     "output_type": "stream",
     "text": [
      "Pomme\n"
     ]
    }
   ],
   "source": [
    "apple = t[0]\n",
    "print(apple)"
   ]
  },
  {
   "cell_type": "code",
   "execution_count": 9,
   "id": "17835faa",
   "metadata": {},
   "outputs": [
    {
     "name": "stdout",
     "output_type": "stream",
     "text": [
      "Banane\n"
     ]
    }
   ],
   "source": [
    "banana = t[1]\n",
    "print(banana)"
   ]
  },
  {
   "cell_type": "code",
   "execution_count": 11,
   "id": "ad7099a8",
   "metadata": {},
   "outputs": [],
   "source": [
    "cursor = connexion.cursor()"
   ]
  },
  {
   "cell_type": "code",
   "execution_count": 12,
   "id": "82e34bf3",
   "metadata": {},
   "outputs": [],
   "source": [
    "# requete SQL qu'on assigne à la variable query en tant que chaine de caractères - string\n",
    "\n",
    "query = \"select * from recent_grads;\""
   ]
  },
  {
   "cell_type": "code",
   "execution_count": 13,
   "id": "9b012c53",
   "metadata": {},
   "outputs": [
    {
     "data": {
      "text/plain": [
       "<sqlite3.Cursor at 0x184769bac70>"
      ]
     },
     "execution_count": 13,
     "metadata": {},
     "output_type": "execute_result"
    }
   ],
   "source": [
    "# exécute la requete SQL situé dans la variable query et ce curseur convertit les résultats en tuples et les stockent \n",
    "# dans une variable locale\n",
    "\n",
    "cursor.execute(query)"
   ]
  },
  {
   "cell_type": "code",
   "execution_count": 14,
   "id": "d2ded62c",
   "metadata": {},
   "outputs": [],
   "source": [
    "# Chercher tous les résultats qu'on a récuperé sous la forme d'une liste de tuples et qu'on assigne à la variable results\n",
    "results = cursor.fetchall()"
   ]
  },
  {
   "cell_type": "code",
   "execution_count": 15,
   "id": "a85107e2",
   "metadata": {},
   "outputs": [],
   "source": [
    "# list_of_tuples = [(1,2,3), (\"été\",\"printemps\"), ...]"
   ]
  },
  {
   "cell_type": "code",
   "execution_count": 17,
   "id": "5dcfa8b2",
   "metadata": {},
   "outputs": [
    {
     "name": "stdout",
     "output_type": "stream",
     "text": [
      "[(0, 1, 2419, 'PETROLEUM ENGINEERING', 'Engineering', 2339, 36, 2057, 282, 0.120564344, 1976, 1849, 270, 1207, 37, 0.018380527, 110000, 95000, 125000, 1534, 364, 193), (1, 2, 2416, 'MINING AND MINERAL ENGINEERING', 'Engineering', 756, 7, 679, 77, 0.10185185199999999, 640, 556, 170, 388, 85, 0.117241379, 75000, 55000, 90000, 350, 257, 50), (2, 3, 2415, 'METALLURGICAL ENGINEERING', 'Engineering', 856, 3, 725, 131, 0.153037383, 648, 558, 133, 340, 16, 0.024096386, 73000, 50000, 105000, 456, 176, 0), (3, 4, 2417, 'NAVAL ARCHITECTURE AND MARINE ENGINEERING', 'Engineering', 1258, 16, 1123, 135, 0.107313196, 758, 1069, 150, 692, 40, 0.050125313, 70000, 43000, 80000, 529, 102, 0), (4, 5, 2405, 'CHEMICAL ENGINEERING', 'Engineering', 32260, 289, 21239, 11021, 0.341630502, 25694, 23170, 5180, 16697, 1672, 0.061097712, 65000, 50000, 75000, 18314, 4440, 972)]\n"
     ]
    }
   ],
   "source": [
    "print(results[0:5])"
   ]
  },
  {
   "cell_type": "markdown",
   "id": "b498a58a",
   "metadata": {},
   "source": [
    "    . Ecrire une requete qui retourne toutes les valeurs de la colonne Major depuis la table recent_grads.\n",
    "    . Stocker les résultats (liste de tuples) et assigner les à la variable majors.\n",
    "    . Enfin afficher les 5 premeirs tuples résultats de majors."
   ]
  },
  {
   "cell_type": "code",
   "execution_count": 19,
   "id": "6489aa09",
   "metadata": {},
   "outputs": [
    {
     "name": "stdout",
     "output_type": "stream",
     "text": [
      "[('PETROLEUM ENGINEERING',), ('MINING AND MINERAL ENGINEERING',), ('METALLURGICAL ENGINEERING',), ('NAVAL ARCHITECTURE AND MARINE ENGINEERING',), ('CHEMICAL ENGINEERING',)]\n"
     ]
    }
   ],
   "source": [
    "query2 = 'select Major from recent_grads;'\n",
    "majors = cursor.execute(query2).fetchall()\n",
    "print(majors[0:5])"
   ]
  },
  {
   "cell_type": "markdown",
   "id": "ddb9e5a0",
   "metadata": {},
   "source": [
    "### Cherecher un certain nombre de résultats via Python sur SQL"
   ]
  },
  {
   "cell_type": "code",
   "execution_count": 20,
   "id": "a5b0e343",
   "metadata": {},
   "outputs": [],
   "source": [
    "# fetchone() qui retourne un seul élément\n",
    "# fetchmany(n) qui retourne le nombre d'élément indiqué en paramètre\n",
    "# notons qu'à chaque fois que l'on utilise cette méthode elle incrémente au fure et à mesure"
   ]
  },
  {
   "cell_type": "code",
   "execution_count": 25,
   "id": "93be6248",
   "metadata": {},
   "outputs": [
    {
     "data": {
      "text/plain": [
       "<sqlite3.Cursor at 0x184769fddc0>"
      ]
     },
     "execution_count": 25,
     "metadata": {},
     "output_type": "execute_result"
    }
   ],
   "source": [
    "import sqlite3\n",
    "connexion = sqlite3.connect('jobs.db')\n",
    "cursor = connexion.cursor()\n",
    "query = 'select Major, Major_category from recent_grads;'\n",
    "cursor.execute(query)"
   ]
  },
  {
   "cell_type": "code",
   "execution_count": 27,
   "id": "4b43e340",
   "metadata": {},
   "outputs": [],
   "source": [
    "first_result = cursor.fetchone()\n"
   ]
  },
  {
   "cell_type": "code",
   "execution_count": 28,
   "id": "5c6dfa2c",
   "metadata": {},
   "outputs": [],
   "source": [
    "second_result = cursor.fetchone()"
   ]
  },
  {
   "cell_type": "code",
   "execution_count": 29,
   "id": "476a8ffe",
   "metadata": {},
   "outputs": [
    {
     "name": "stdout",
     "output_type": "stream",
     "text": [
      "('MINING AND MINERAL ENGINEERING', 'Engineering')\n",
      "('METALLURGICAL ENGINEERING', 'Engineering')\n"
     ]
    }
   ],
   "source": [
    "print(first_result)\n",
    "print(second_result)"
   ]
  },
  {
   "cell_type": "code",
   "execution_count": 30,
   "id": "d87f8838",
   "metadata": {},
   "outputs": [
    {
     "name": "stdout",
     "output_type": "stream",
     "text": [
      "[('NAVAL ARCHITECTURE AND MARINE ENGINEERING', 'Engineering'), ('CHEMICAL ENGINEERING', 'Engineering'), ('NUCLEAR ENGINEERING', 'Engineering'), ('ACTUARIAL SCIENCE', 'Business'), ('ASTRONOMY AND ASTROPHYSICS', 'Physical Sciences')]\n"
     ]
    }
   ],
   "source": [
    "next_five_results = cursor.fetchmany(5)\n",
    "print(next_five_results)"
   ]
  },
  {
   "cell_type": "markdown",
   "id": "0a12c31e",
   "metadata": {},
   "source": [
    "### Stopper la connexion à la base de donnée"
   ]
  },
  {
   "cell_type": "code",
   "execution_count": 31,
   "id": "1544cf58",
   "metadata": {},
   "outputs": [],
   "source": [
    "connexion = sqlite3.connect(\"jobs.db\")\n",
    "connexion.close()"
   ]
  },
  {
   "cell_type": "markdown",
   "id": "8a590805",
   "metadata": {},
   "source": [
    "### Trainig :\n",
    "\n",
    "        . Connectez vous à la base de données jobs2.db.\n",
    "        . Ecrire et exécuter une requete qui retourne tout les majors dans l'ordre alphabétique inverse.\n",
    "        . Assigner le résultat complet à la variable result.\n",
    "        . Enfin fermer la connexion à la base de données."
   ]
  },
  {
   "cell_type": "code",
   "execution_count": 33,
   "id": "d14c51da",
   "metadata": {},
   "outputs": [
    {
     "name": "stdout",
     "output_type": "stream",
     "text": [
      "[('ZOOLOGY',), ('VISUAL AND PERFORMING ARTS',), ('UNITED STATES HISTORY',), ('TREATMENT THERAPY PROFESSIONS',), ('TRANSPORTATION SCIENCES AND TECHNOLOGIES',), ('THEOLOGY AND RELIGIOUS VOCATIONS',), ('TEACHER EDUCATION: MULTIPLE LEVELS',), ('STUDIO ARTS',), ('STATISTICS AND DECISION SCIENCE',), ('SPECIAL NEEDS EDUCATION',), ('SOIL SCIENCE',), ('SOCIOLOGY',), ('SOCIAL WORK',), ('SOCIAL SCIENCE OR HISTORY TEACHER EDUCATION',), ('SOCIAL PSYCHOLOGY',), ('SECONDARY TEACHER EDUCATION',), ('SCIENCE AND COMPUTER TEACHER EDUCATION',), ('SCHOOL STUDENT COUNSELING',), ('PUBLIC POLICY',), ('PUBLIC ADMINISTRATION',), ('PSYCHOLOGY',), ('PRE-LAW AND LEGAL STUDIES',), ('POLITICAL SCIENCE AND GOVERNMENT',), ('PLANT SCIENCE AND AGRONOMY',), ('PHYSIOLOGY',), ('PHYSICS',), ('PHYSICAL SCIENCES',), ('PHYSICAL FITNESS PARKS RECREATION AND LEISURE',), ('PHYSICAL AND HEALTH EDUCATION TEACHING',), ('PHILOSOPHY AND RELIGIOUS STUDIES',), ('PHARMACY PHARMACEUTICAL SCIENCES AND ADMINISTRATION',), ('PHARMACOLOGY',), ('PETROLEUM ENGINEERING',), ('OTHER FOREIGN LANGUAGES',), ('OPERATIONS LOGISTICS AND E-COMMERCE',), ('OCEANOGRAPHY',), ('NUTRITION SCIENCES',), ('NURSING',), ('NUCLEAR, INDUSTRIAL RADIOLOGY, AND BIOLOGICAL TECHNOLOGIES',), ('NUCLEAR ENGINEERING',), ('NEUROSCIENCE',), ('NAVAL ARCHITECTURE AND MARINE ENGINEERING',), ('NATURAL RESOURCES MANAGEMENT',), ('MUSIC',), ('MULTI/INTERDISCIPLINARY STUDIES',), ('MULTI-DISCIPLINARY OR GENERAL SCIENCE',), ('MOLECULAR BIOLOGY',), ('MISCELLANEOUS SOCIAL SCIENCES',), ('MISCELLANEOUS PSYCHOLOGY',), ('MISCELLANEOUS HEALTH MEDICAL PROFESSIONS',), ('MISCELLANEOUS FINE ARTS',), ('MISCELLANEOUS ENGINEERING TECHNOLOGIES',), ('MISCELLANEOUS ENGINEERING',), ('MISCELLANEOUS EDUCATION',), ('MISCELLANEOUS BUSINESS & MEDICAL ADMINISTRATION',), ('MISCELLANEOUS BIOLOGY',), ('MISCELLANEOUS AGRICULTURE',), ('MINING AND MINERAL ENGINEERING',), ('MILITARY TECHNOLOGIES',), ('MICROBIOLOGY',), ('METALLURGICAL ENGINEERING',), ('MEDICAL TECHNOLOGIES TECHNICIANS',), ('MEDICAL ASSISTING SERVICES',), ('MECHANICAL ENGINEERING RELATED TECHNOLOGIES',), ('MECHANICAL ENGINEERING',), ('MATHEMATICS TEACHER EDUCATION',), ('MATHEMATICS AND COMPUTER SCIENCE',), ('MATHEMATICS',), ('MATERIALS SCIENCE',), ('MATERIALS ENGINEERING AND MATERIALS SCIENCE',), ('MASS MEDIA',), ('MARKETING AND MARKETING RESEARCH',), ('MANAGEMENT INFORMATION SYSTEMS AND STATISTICS',), ('LINGUISTICS AND COMPARATIVE LANGUAGE AND LITERATURE',), ('LIBRARY SCIENCE',), ('LIBERAL ARTS',), ('LANGUAGE AND DRAMA EDUCATION',), ('JOURNALISM',), ('INTERNATIONAL RELATIONS',), ('INTERNATIONAL BUSINESS',), ('INTERDISCIPLINARY SOCIAL SCIENCES',), ('INTERCULTURAL AND INTERNATIONAL STUDIES',), ('INFORMATION SCIENCES',), ('INDUSTRIAL PRODUCTION TECHNOLOGIES',), ('INDUSTRIAL AND ORGANIZATIONAL PSYCHOLOGY',), ('INDUSTRIAL AND MANUFACTURING ENGINEERING',), ('HUMANITIES',), ('HUMAN SERVICES AND COMMUNITY ORGANIZATION',), ('HUMAN RESOURCES AND PERSONNEL MANAGEMENT',), ('HOSPITALITY MANAGEMENT',), ('HISTORY',), ('HEALTH AND MEDICAL PREPARATORY PROGRAMS',), ('HEALTH AND MEDICAL ADMINISTRATIVE SERVICES',), ('GEOSCIENCES',), ('GEOLOGY AND EARTH SCIENCE',), ('GEOLOGICAL AND GEOPHYSICAL ENGINEERING',), ('GEOGRAPHY',), ('GENETICS',), ('GENERAL SOCIAL SCIENCES',), ('GENERAL MEDICAL AND HEALTH SERVICES',), ('GENERAL ENGINEERING',), ('GENERAL EDUCATION',), ('GENERAL BUSINESS',), ('GENERAL AGRICULTURE',), ('FRENCH GERMAN LATIN AND OTHER COMMON FOREIGN LANGUAGE STUDIES',), ('FORESTRY',), ('FOOD SCIENCE',), ('FINE ARTS',), ('FINANCE',), ('FILM VIDEO AND PHOTOGRAPHIC ARTS',), ('FAMILY AND CONSUMER SCIENCES',), ('ENVIRONMENTAL SCIENCE',), ('ENVIRONMENTAL ENGINEERING',), ('ENGLISH LANGUAGE AND LITERATURE',), ('ENGINEERING TECHNOLOGIES',), ('ENGINEERING MECHANICS PHYSICS AND SCIENCE',), ('ENGINEERING AND INDUSTRIAL MANAGEMENT',), ('ELEMENTARY EDUCATION',), ('ELECTRICAL, MECHANICAL, AND PRECISION TECHNOLOGIES AND PRODUCTION',), ('ELECTRICAL ENGINEERING TECHNOLOGY',), ('ELECTRICAL ENGINEERING',), ('EDUCATIONAL PSYCHOLOGY',), ('EDUCATIONAL ADMINISTRATION AND SUPERVISION',), ('ECONOMICS',), ('ECOLOGY',), ('EARLY CHILDHOOD EDUCATION',), ('DRAMA AND THEATER ARTS',), ('CRIMINOLOGY',), ('CRIMINAL JUSTICE AND FIRE PROTECTION',), ('COURT REPORTING',), ('COUNSELING PSYCHOLOGY',), ('COSMETOLOGY SERVICES AND CULINARY ARTS',), ('CONSTRUCTION SERVICES',), ('COMPUTER SCIENCE',), ('COMPUTER PROGRAMMING AND DATA PROCESSING',), ('COMPUTER NETWORKING AND TELECOMMUNICATIONS',), ('COMPUTER ENGINEERING',), ('COMPUTER AND INFORMATION SYSTEMS',), ('COMPUTER ADMINISTRATION MANAGEMENT AND SECURITY',), ('COMPOSITION AND RHETORIC',), ('COMMUNITY AND PUBLIC HEALTH',), ('COMMUNICATIONS',), ('COMMUNICATION TECHNOLOGIES',), ('COMMUNICATION DISORDERS SCIENCES AND SERVICES',), ('COMMERCIAL ART AND GRAPHIC DESIGN',), ('COGNITIVE SCIENCE AND BIOPSYCHOLOGY',), ('CLINICAL PSYCHOLOGY',), ('CIVIL ENGINEERING',), ('CHEMISTRY',), ('CHEMICAL ENGINEERING',), ('BUSINESS MANAGEMENT AND ADMINISTRATION',), ('BUSINESS ECONOMICS',), ('BOTANY',), ('BIOMEDICAL ENGINEERING',), ('BIOLOGY',), ('BIOLOGICAL ENGINEERING',), ('BIOCHEMICAL SCIENCES',), ('ATMOSPHERIC SCIENCES AND METEOROLOGY',), ('ASTRONOMY AND ASTROPHYSICS',), ('ART HISTORY AND CRITICISM',), ('ART AND MUSIC EDUCATION',), ('AREA ETHNIC AND CIVILIZATION STUDIES',), ('ARCHITECTURE',), ('ARCHITECTURAL ENGINEERING',), ('APPLIED MATHEMATICS',), ('ANTHROPOLOGY AND ARCHEOLOGY',), ('ANIMAL SCIENCES',), ('AGRICULTURE PRODUCTION AND MANAGEMENT',), ('AGRICULTURAL ECONOMICS',), ('AEROSPACE ENGINEERING',), ('ADVERTISING AND PUBLIC RELATIONS',), ('ACTUARIAL SCIENCE',), ('ACCOUNTING',)]\n"
     ]
    }
   ],
   "source": [
    "import sqlite3\n",
    "connexion = sqlite3.connect('jobs2.db')\n",
    "query = \"select Major from recent_grads order by Major desc;\"\n",
    "result = connexion.cursor().execute(query).fetchall()\n",
    "print(result)\n",
    "connexion.close()"
   ]
  },
  {
   "cell_type": "code",
   "execution_count": null,
   "id": "65d65fab",
   "metadata": {},
   "outputs": [],
   "source": []
  }
 ],
 "metadata": {
  "kernelspec": {
   "display_name": "Python 3 (ipykernel)",
   "language": "python",
   "name": "python3"
  },
  "language_info": {
   "codemirror_mode": {
    "name": "ipython",
    "version": 3
   },
   "file_extension": ".py",
   "mimetype": "text/x-python",
   "name": "python",
   "nbconvert_exporter": "python",
   "pygments_lexer": "ipython3",
   "version": "3.9.13"
  }
 },
 "nbformat": 4,
 "nbformat_minor": 5
}
