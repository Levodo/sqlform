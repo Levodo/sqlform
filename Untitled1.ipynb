{
 "cells": [
  {
   "cell_type": "code",
   "execution_count": 2,
   "id": "35570421",
   "metadata": {},
   "outputs": [
    {
     "name": "stdout",
     "output_type": "stream",
     "text": [
      "[(228,)]\n"
     ]
    }
   ],
   "source": [
    "import sqlite3\n",
    "\n",
    "connexion = sqlite3.connect('factbook.db')\n",
    "\n",
    "birth_rate_tuple = connexion.execute(\"select count(birth_rate) from facts;\").fetchall()\n",
    "\n",
    "print(birth_rate_tuple)"
   ]
  },
  {
   "cell_type": "code",
   "execution_count": 3,
   "id": "7639de48",
   "metadata": {},
   "outputs": [
    {
     "name": "stdout",
     "output_type": "stream",
     "text": [
      "228\n"
     ]
    }
   ],
   "source": [
    "# on recupère le nombre de valeurs non null de la colonne birth_rate\n",
    "birth_rate_count = birth_rate_tuple[0][0]\n",
    "print(birth_rate_count)"
   ]
  },
  {
   "cell_type": "markdown",
   "id": "7316fe7d",
   "metadata": {},
   "source": [
    "### Objectifs: Trouver les valeurs minimales et maximales d'une colonne en SQL\n",
    "\n",
    "    1. Utiliser la fonction MIN sur la colonne population_growth.\n",
    "    2. Utiliser la fonction MAX sur la colonne death_rate.\n",
    "    \n",
    "    Travail à réaliser sur DB Browser puis sur Jupyter Notebook"
   ]
  },
  {
   "cell_type": "code",
   "execution_count": 5,
   "id": "4c17c9bc",
   "metadata": {},
   "outputs": [
    {
     "name": "stdout",
     "output_type": "stream",
     "text": [
      "0.0\n"
     ]
    }
   ],
   "source": [
    "population_growth_tuple = connexion.execute(\"select MIN(population_growth) from facts;\").fetchall()\n",
    "print(population_growth_tuple[0][0])"
   ]
  },
  {
   "cell_type": "code",
   "execution_count": 9,
   "id": "da16ae83",
   "metadata": {},
   "outputs": [
    {
     "name": "stdout",
     "output_type": "stream",
     "text": [
      "14.89\n"
     ]
    }
   ],
   "source": [
    "death_rate_tuple = connexion.execute('select MAX(death_rate) from facts;').fetchall()\n",
    "print(death_rate_tuple[0][0])"
   ]
  },
  {
   "cell_type": "markdown",
   "id": "eff55e43",
   "metadata": {},
   "source": [
    "### Objectifs : Calculer des Sommes et Moyennes en SQL \n",
    "\n",
    "        1. Utiliser la fonction SUM pour trouver le total de la colonne area_land.\n",
    "        2. Utiliser la fonction AVG pour trouver la moyenne de la colonne area_water.\n",
    "\n",
    "        Travail à réaliser sur DB Browser puis sur jupyter Notebook\n"
   ]
  },
  {
   "cell_type": "code",
   "execution_count": 12,
   "id": "a502f5be",
   "metadata": {},
   "outputs": [
    {
     "name": "stdout",
     "output_type": "stream",
     "text": [
      "128584834\n",
      "19067.59259259259\n"
     ]
    }
   ],
   "source": [
    "import sqlite3\n",
    "connexion = sqlite3.connect('factbook.db')\n",
    "\n",
    "total_area_land = connexion.execute('select sum(area_land) from facts;').fetchall()\n",
    "avg_area_water = connexion.execute('select avg(area_water) from facts;').fetchall()\n",
    "\n",
    "print(total_area_land[0][0])\n",
    "print(avg_area_water[0][0])"
   ]
  },
  {
   "cell_type": "code",
   "execution_count": 13,
   "id": "e5946d9b",
   "metadata": {},
   "outputs": [],
   "source": [
    "connexion.close()"
   ]
  },
  {
   "cell_type": "markdown",
   "id": "f8b42fb8",
   "metadata": {},
   "source": [
    "### Objectifs : Combiner plusieurs fonctions\n",
    "    Ecrire une requete qui calcule:\n",
    "        \n",
    "        - La moyenne de la colonne population\n",
    "        - La somme de la colonne population\n",
    "        - Le maximum de la colonne birth_rate\n",
    "\n",
    "    Travail à réaliser sur DB Browser puis sur Jupyter Notebook\n",
    "    \n",
    "    Afficher les 3 resultats que vous assignerez à 3 variables différentes"
   ]
  },
  {
   "cell_type": "code",
   "execution_count": 14,
   "id": "302890ee",
   "metadata": {},
   "outputs": [
    {
     "name": "stdout",
     "output_type": "stream",
     "text": [
      "[(62094928.32231405, 15026972654, 45.45)]\n"
     ]
    }
   ],
   "source": [
    "import sqlite3\n",
    "\n",
    "connexion = sqlite3.connect('factbook.db')\n",
    "\n",
    "facts_stats = connexion.execute(\"select avg(population), sum(population), max(birth_rate) from facts;\").fetchall()\n",
    "print(facts_stats)"
   ]
  },
  {
   "cell_type": "code",
   "execution_count": 15,
   "id": "06846631",
   "metadata": {},
   "outputs": [],
   "source": [
    "avg_pop = facts_stats[0][0]\n",
    "sum_pop = facts_stats[0][1]\n",
    "max_birth_rate = facts_stats[0][2]"
   ]
  },
  {
   "cell_type": "code",
   "execution_count": 16,
   "id": "12947746",
   "metadata": {},
   "outputs": [
    {
     "name": "stdout",
     "output_type": "stream",
     "text": [
      "62094928.32231405\n",
      "15026972654\n",
      "45.45\n"
     ]
    }
   ],
   "source": [
    "print(avg_pop)\n",
    "print(sum_pop)\n",
    "print(max_birth_rate)"
   ]
  },
  {
   "cell_type": "markdown",
   "id": "2cef7df5",
   "metadata": {},
   "source": [
    "### Objectifs: Associer les fonctions de calcul avec la condition where\n",
    "\n",
    "    Ecrire une requete SQL qui calcul la moyenne de la colonne population_growth pour les pays ayant une \n",
    "    population supérieure à 10000000 d'habitants.\n",
    "\n",
    "    Travail à réaliser sur DB Browser puis sur Jupyter Notebook"
   ]
  },
  {
   "cell_type": "code",
   "execution_count": 18,
   "id": "b1f2630f",
   "metadata": {},
   "outputs": [
    {
     "name": "stdout",
     "output_type": "stream",
     "text": [
      "1.4572222222222226\n"
     ]
    }
   ],
   "source": [
    "avg_pop_growth = connexion.execute(\"select avg(population_growth) from facts where population > 10000000;\").fetchall()\n",
    "print(avg_pop_growth[0][0])"
   ]
  },
  {
   "cell_type": "markdown",
   "id": "6b6e7d58",
   "metadata": {},
   "source": [
    "### Sélectionner des éléments ou données uniques"
   ]
  },
  {
   "cell_type": "code",
   "execution_count": 19,
   "id": "021ca7c3",
   "metadata": {},
   "outputs": [
    {
     "name": "stdout",
     "output_type": "stream",
     "text": [
      "[(38.57,), (12.92,), (23.67,), (8.13,), (38.78,), (15.85,), (16.64,), (13.61,), (12.15,), (9.41,), (15.5,), (13.66,), (21.14,), (11.87,), (10.7,), (11.41,), (24.68,), (36.02,), (17.78,), (22.76,), (8.87,), (20.96,), (14.46,), (17.32,), (8.92,), (42.03,), (18.39,), (42.01,), (23.83,), (36.17,), (10.28,), (20.33,), (35.08,), (36.6,), (13.83,), (12.49,), (16.47,), (27.84,), (34.88,), (35.85,), (15.91,), (28.67,), (9.45,), (9.9,), (9.63,), (10.27,), (23.65,), (15.41,), (18.73,), (18.51,), (22.9,), (16.46,), (33.31,), (30.0,), (10.51,), (37.27,), (19.43,), (10.72,), (12.38,), (34.49,), (30.86,), (12.74,), (8.47,), (31.09,), (8.66,), (16.03,), (24.89,), (35.74,), (33.38,), (15.59,), (22.31,), (23.14,), (9.16,), (13.91,), (19.55,), (16.72,), (17.99,), (31.45,), (14.84,), (18.48,), (8.74,), (18.16,), (7.93,), (25.37,), (19.15,), (26.4,), (21.46,), (14.52,), (8.19,), (None,), (19.91,), (22.98,), (24.25,), (10.0,), (14.59,), (25.47,), (34.41,), (18.03,), (10.45,), (10.1,), (11.37,), (11.55,), (32.61,), (41.56,), (19.71,), (15.75,), (44.99,), (10.18,), (25.6,), (31.34,), (13.29,), (18.78,), (20.54,), (12.0,), (6.65,), (20.25,), (10.42,), (18.2,), (38.58,), (19.8,), (24.95,), (20.64,), (10.83,), (13.33,), (45.45,), (37.64,), (12.14,), (24.44,), (22.58,), (11.05,), (18.32,), (24.38,), (16.37,), (18.28,), (24.27,), (9.74,), (9.27,), (9.84,), (9.14,), (11.6,), (33.75,), (13.5,), (13.7,), (13.57,), (20.87,), (8.63,), (34.23,), (34.52,), (9.08,), (14.19,), (37.03,), (8.27,), (9.91,), (8.42,), (25.77,), (40.45,), (20.75,), (36.91,), (9.64,), (29.19,), (16.34,), (24.67,), (11.99,), (10.5,), (22.17,), (36.39,), (11.19,), (34.16,), (34.13,), (23.0,), (13.46,), (16.33,), (19.4,), (23.74,), (43.79,), (15.43,), (12.17,), (13.07,), (17.0,), (25.04,), (19.16,), (15.96,), (29.98,), (42.13,), (32.26,), (10.2,), (9.23,), (8.88,), (13.77,), (14.48,), (15.22,), (15.33,), (7.42,), (13.45,), (12.56,), (13.8,), (13.0,), (14.33,), (12.67,), (11.33,), (10.91,), (12.11,), (10.9,), (14.08,), (11.91,), (11.1,), (11.26,), (9.88,), (16.13,), (22.89,), (16.82,), (10.86,), (10.31,), (31.11,), (22.99,), (30.24,), (18.6,)]\n"
     ]
    }
   ],
   "source": [
    "unique_birth_rate = connexion.execute(\"select distinct birth_rate from facts;\").fetchall()\n",
    "print(unique_birth_rate)"
   ]
  },
  {
   "cell_type": "code",
   "execution_count": null,
   "id": "47338d23",
   "metadata": {},
   "outputs": [],
   "source": []
  }
 ],
 "metadata": {
  "kernelspec": {
   "display_name": "Python 3 (ipykernel)",
   "language": "python",
   "name": "python3"
  },
  "language_info": {
   "codemirror_mode": {
    "name": "ipython",
    "version": 3
   },
   "file_extension": ".py",
   "mimetype": "text/x-python",
   "name": "python",
   "nbconvert_exporter": "python",
   "pygments_lexer": "ipython3",
   "version": "3.9.13"
  }
 },
 "nbformat": 4,
 "nbformat_minor": 5
}
