{
 "cells": [
  {
   "cell_type": "markdown",
   "id": "6f58b007",
   "metadata": {},
   "source": [
    "### Connexion à PostgreSQL"
   ]
  },
  {
   "cell_type": "code",
   "execution_count": 1,
   "id": "60a61c17",
   "metadata": {},
   "outputs": [],
   "source": [
    "import psycopg2\n",
    "\n",
    "connexion = psycopg2.connect(dbname=\"postgres\", user=\"postgres\")\n",
    "cursor = connexion.cursor()\n",
    "cursor.execute(\"create table notes(id integer primary key, body text, title text);\")\n",
    "connexion.close()"
   ]
  },
  {
   "cell_type": "markdown",
   "id": "11a3d97a",
   "metadata": {},
   "source": [
    "## Utilisation de Postgresql avec Python"
   ]
  },
  {
   "cell_type": "markdown",
   "id": "101309ca",
   "metadata": {},
   "source": [
    "### Connexion avec psycopg2"
   ]
  },
  {
   "cell_type": "code",
   "execution_count": 2,
   "id": "f21f4b7f",
   "metadata": {},
   "outputs": [],
   "source": [
    "connexion = psycopg2.connect(dbname=\"postgres\", user=\"postgres\", password='password')\n",
    "curseur = connexion.cursor()"
   ]
  },
  {
   "cell_type": "code",
   "execution_count": 3,
   "id": "6d700d74",
   "metadata": {},
   "outputs": [
    {
     "name": "stdout",
     "output_type": "stream",
     "text": [
      "<cursor object at 0x0000026A5E41D2E0; closed: 0>\n"
     ]
    }
   ],
   "source": [
    "# connectons nous à la base de données bank_accounts ayant pour user batman et mot de passe robin.\n",
    "\n",
    "connexion = psycopg2.connect(dbname=\"bank_accounts\", user=\"batman\", password=\"robin\")\n",
    "curseur = connexion.cursor()\n",
    "print(curseur)"
   ]
  },
  {
   "cell_type": "code",
   "execution_count": 4,
   "id": "f4c54078",
   "metadata": {},
   "outputs": [],
   "source": [
    "connexion.close()"
   ]
  },
  {
   "cell_type": "markdown",
   "id": "ec0a6b48",
   "metadata": {},
   "source": [
    "### Créer une table"
   ]
  },
  {
   "cell_type": "code",
   "execution_count": 7,
   "id": "a38b9325",
   "metadata": {},
   "outputs": [],
   "source": [
    "connexion = psycopg2.connect(dbname=\"bank_accounts\", user=\"batman\", password=\"robin\")\n",
    "curseur = connexion.cursor()\n",
    "curseur.execute(\"CREATE TABLE notes(id integer PRIMARY KEY, body text, title text);\")\n",
    "connexion.close()"
   ]
  },
  {
   "cell_type": "markdown",
   "id": "e3b7985a",
   "metadata": {},
   "source": [
    "### Transactions en SQL"
   ]
  },
  {
   "cell_type": "code",
   "execution_count": 8,
   "id": "6505e312",
   "metadata": {},
   "outputs": [],
   "source": [
    "# commit(): validera toutes les transactions qui ont été réalisées dans les requetes sql."
   ]
  },
  {
   "cell_type": "code",
   "execution_count": 9,
   "id": "3ba1e754",
   "metadata": {},
   "outputs": [],
   "source": [
    "connexion = psycopg2.connect(dbname=\"bank_accounts\", user=\"batman\", password=\"robin\")\n",
    "curseur = connexion.cursor()\n",
    "curseur.execute(\"CREATE TABLE notes(id integer PRIMARY KEY, body text, title text);\")\n",
    "connexion.commit()\n",
    "connexion.close()"
   ]
  },
  {
   "cell_type": "markdown",
   "id": "730de143",
   "metadata": {},
   "source": [
    "### Commit automatique"
   ]
  },
  {
   "cell_type": "code",
   "execution_count": 10,
   "id": "e07d23d9",
   "metadata": {},
   "outputs": [],
   "source": [
    "# autocommit = True\n",
    "\n",
    "connexion = psycopg2.connect(dbname=\"bank_accounts\", user=\"batman\", password=\"robin\")\n",
    "connexion.autocommit = True\n",
    "curseur = connexion.cursor()\n",
    "curseur.execute(\"CREATE TABLE note2(id integer PRIMARY KEY, body text, title text);\")\n",
    "connexion.close()"
   ]
  },
  {
   "cell_type": "markdown",
   "id": "4b15d162",
   "metadata": {},
   "source": [
    "### Exécuter des requetes SQL"
   ]
  },
  {
   "cell_type": "code",
   "execution_count": 11,
   "id": "f317e7a5",
   "metadata": {},
   "outputs": [
    {
     "name": "stdout",
     "output_type": "stream",
     "text": [
      "[]\n"
     ]
    }
   ],
   "source": [
    "connexion = psycopg2.connect(dbname=\"bank_accounts\", user=\"batman\", password=\"robin\")\n",
    "curseur = connexion.cursor()\n",
    "curseur.execute(\"SELECT * FROM notes;\")\n",
    "row = curseur.fetchall()\n",
    "print(row)"
   ]
  },
  {
   "cell_type": "code",
   "execution_count": 15,
   "id": "0ecf6266",
   "metadata": {},
   "outputs": [
    {
     "ename": "UniqueViolation",
     "evalue": "ERREUR:  la valeur d'une clé dupliquée rompt la contrainte unique « notes_pkey »\nDETAIL:  La clé « (id)=(1) » existe déjà.\n",
     "output_type": "error",
     "traceback": [
      "\u001b[1;31m---------------------------------------------------------------------------\u001b[0m",
      "\u001b[1;31mUniqueViolation\u001b[0m                           Traceback (most recent call last)",
      "\u001b[1;32m~\\AppData\\Local\\Temp\\ipykernel_11164\\1503651792.py\u001b[0m in \u001b[0;36m<module>\u001b[1;34m\u001b[0m\n\u001b[0;32m      3\u001b[0m \u001b[0mconnexion\u001b[0m \u001b[1;33m=\u001b[0m \u001b[0mpsycopg2\u001b[0m\u001b[1;33m.\u001b[0m\u001b[0mconnect\u001b[0m\u001b[1;33m(\u001b[0m\u001b[0mdbname\u001b[0m\u001b[1;33m=\u001b[0m\u001b[1;34m\"bank_accounts\"\u001b[0m\u001b[1;33m,\u001b[0m \u001b[0muser\u001b[0m\u001b[1;33m=\u001b[0m\u001b[1;34m\"batman\"\u001b[0m\u001b[1;33m,\u001b[0m \u001b[0mpassword\u001b[0m\u001b[1;33m=\u001b[0m\u001b[1;34m\"robin\"\u001b[0m\u001b[1;33m)\u001b[0m\u001b[1;33m\u001b[0m\u001b[1;33m\u001b[0m\u001b[0m\n\u001b[0;32m      4\u001b[0m \u001b[0mcurseur\u001b[0m \u001b[1;33m=\u001b[0m \u001b[0mconnexion\u001b[0m\u001b[1;33m.\u001b[0m\u001b[0mcursor\u001b[0m\u001b[1;33m(\u001b[0m\u001b[1;33m)\u001b[0m\u001b[1;33m\u001b[0m\u001b[1;33m\u001b[0m\u001b[0m\n\u001b[1;32m----> 5\u001b[1;33m \u001b[0mcurseur\u001b[0m\u001b[1;33m.\u001b[0m\u001b[0mexecute\u001b[0m\u001b[1;33m(\u001b[0m\u001b[1;34m\"INSERT INTO notes VALUES(1, 'ceci est notre première note', 'Titre note');\"\u001b[0m\u001b[1;33m)\u001b[0m\u001b[1;33m\u001b[0m\u001b[1;33m\u001b[0m\u001b[0m\n\u001b[0m\u001b[0;32m      6\u001b[0m \u001b[0mcurseur\u001b[0m\u001b[1;33m.\u001b[0m\u001b[0mexecute\u001b[0m\u001b[1;33m(\u001b[0m\u001b[1;34m\"SELECT * FROM notes;\"\u001b[0m\u001b[1;33m)\u001b[0m\u001b[1;33m\u001b[0m\u001b[1;33m\u001b[0m\u001b[0m\n\u001b[0;32m      7\u001b[0m \u001b[0mrow\u001b[0m \u001b[1;33m=\u001b[0m \u001b[0mcurseur\u001b[0m\u001b[1;33m.\u001b[0m\u001b[0mfetchall\u001b[0m\u001b[1;33m(\u001b[0m\u001b[1;33m)\u001b[0m\u001b[1;33m\u001b[0m\u001b[1;33m\u001b[0m\u001b[0m\n",
      "\u001b[1;31mUniqueViolation\u001b[0m: ERREUR:  la valeur d'une clé dupliquée rompt la contrainte unique « notes_pkey »\nDETAIL:  La clé « (id)=(1) » existe déjà.\n"
     ]
    }
   ],
   "source": [
    "# Rien ne s'affiche car notes ne contient aucune valeur. Ajoutons donc des valeurs à la table note.\n",
    "\n",
    "connexion = psycopg2.connect(dbname=\"bank_accounts\", user=\"batman\", password=\"robin\")\n",
    "curseur = connexion.cursor()\n",
    "curseur.execute(\"INSERT INTO notes VALUES(1, 'ceci est notre première note', 'Titre note');\")\n",
    "curseur.execute(\"SELECT * FROM notes;\")\n",
    "row = curseur.fetchall()\n",
    "print(row)\n",
    "connexion.commit()\n",
    "connexion.close()"
   ]
  },
  {
   "cell_type": "markdown",
   "id": "43ea6563",
   "metadata": {},
   "source": [
    "### Créer des bases de données"
   ]
  },
  {
   "cell_type": "code",
   "execution_count": 16,
   "id": "666748ea",
   "metadata": {},
   "outputs": [],
   "source": [
    "connexion = psycopg2.connect(dbname=\"bank_accounts\", user=\"batman\", password=\"robin\")\n",
    "connexion.autocommit = True\n",
    "curseur = connexion.cursor()\n",
    "curseur.execute(\"CREATE DATABASE income OWNER batman;\")\n",
    "connexion.close()"
   ]
  },
  {
   "cell_type": "markdown",
   "id": "878e5b74",
   "metadata": {},
   "source": [
    "### Supprimer des bases données"
   ]
  },
  {
   "cell_type": "code",
   "execution_count": 18,
   "id": "153c9e85",
   "metadata": {},
   "outputs": [],
   "source": [
    "#Nous allons supprimer la bd income.\n",
    "connexion = psycopg2.connect(dbname=\"bank_accounts\", user=\"batman\", password=\"robin\")\n",
    "connexion.autocommit = True\n",
    "curseur = connexion.cursor()\n",
    "curseur.execute(\"DROP DATABASE income;\")\n",
    "connexion.close()"
   ]
  },
  {
   "cell_type": "markdown",
   "id": "708ad382",
   "metadata": {},
   "source": [
    "### Projet final: Exploration base de données PostgreSQL"
   ]
  },
  {
   "cell_type": "markdown",
   "id": "d1780898",
   "metadata": {},
   "source": [
    "### Exploration de dvdrental avec DISTINCT, COUNT, GROUP BY"
   ]
  },
  {
   "cell_type": "markdown",
   "id": "6deb5ba3",
   "metadata": {},
   "source": [
    "### Missions:\n",
    "        \n",
    "        -Nous voulons connaitre les différentes notes(colonne rating) des Etats-Unis\n",
    "        (PG, PG-13, R, etc...) présente dans la table film.\n",
    "        \n",
    "        - Nous souhaitons aussi connaitre les différents taux de location (colonne rental_rate)\n",
    "        présent dans la table film.\n",
    "        \n",
    "        - Compter le nombre des différents rating et rental_rate"
   ]
  },
  {
   "cell_type": "code",
   "execution_count": null,
   "id": "861611f3",
   "metadata": {},
   "outputs": [],
   "source": [
    " "
   ]
  }
 ],
 "metadata": {
  "kernelspec": {
   "display_name": "Python 3 (ipykernel)",
   "language": "python",
   "name": "python3"
  },
  "language_info": {
   "codemirror_mode": {
    "name": "ipython",
    "version": 3
   },
   "file_extension": ".py",
   "mimetype": "text/x-python",
   "name": "python",
   "nbconvert_exporter": "python",
   "pygments_lexer": "ipython3",
   "version": "3.9.13"
  }
 },
 "nbformat": 4,
 "nbformat_minor": 5
}
