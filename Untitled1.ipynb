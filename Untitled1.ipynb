{
 "cells": [
  {
   "cell_type": "code",
   "execution_count": 2,
   "id": "3fb5860b",
   "metadata": {},
   "outputs": [
    {
     "name": "stdout",
     "output_type": "stream",
     "text": [
      "[(228,)]\n"
     ]
    }
   ],
   "source": [
    "import sqlite3\n",
    "\n",
    "connexion = sqlite3.connect('factbook.db')\n",
    "\n",
    "birth_rate_tuple = connexion.execute(\"select count(birth_rate) from facts;\").fetchall()\n",
    "\n",
    "print(birth_rate_tuple)"
   ]
  },
  {
   "cell_type": "code",
   "execution_count": 3,
   "id": "0e3cde15",
   "metadata": {},
   "outputs": [
    {
     "name": "stdout",
     "output_type": "stream",
     "text": [
      "228\n"
     ]
    }
   ],
   "source": [
    "# on recupère le nombre de valeurs non null de la colonne birth_rate\n",
    "birth_rate_count = birth_rate_tuple[0][0]\n",
    "print(birth_rate_count)"
   ]
  },
  {
   "cell_type": "markdown",
   "id": "3996bdf0",
   "metadata": {},
   "source": [
    "### Objectifs:\n",
    "\n",
    "    1. Utiliser la fonction MIN sur la colonne population_growth.\n",
    "    2. Utiliser la fonction MAX sur la colonne death_rate.\n",
    "    \n",
    "    Travail à réaliser sur DB Browser puis sur Jupyter Notebook"
   ]
  },
  {
   "cell_type": "code",
   "execution_count": 5,
   "id": "7372ae70",
   "metadata": {},
   "outputs": [
    {
     "name": "stdout",
     "output_type": "stream",
     "text": [
      "0.0\n"
     ]
    }
   ],
   "source": [
    "population_growth_tuple = connexion.execute(\"select MIN(population_growth) from facts;\").fetchall()\n",
    "print(population_growth_tuple[0][0])"
   ]
  },
  {
   "cell_type": "code",
   "execution_count": 9,
   "id": "9f54833a",
   "metadata": {},
   "outputs": [
    {
     "name": "stdout",
     "output_type": "stream",
     "text": [
      "14.89\n"
     ]
    }
   ],
   "source": [
    "death_rate_tuple = connexion.execute('select MAX(death_rate) from facts;').fetchall()\n",
    "print(death_rate_tuple[0][0])"
   ]
  },
  {
   "cell_type": "markdown",
   "id": "0d29d352",
   "metadata": {},
   "source": [
    "### Objectifs :\n",
    "\n",
    "        1. Utiliser la fonction SUM pour trouver le total de la colonne area_land.\n",
    "        2. Utiliser la fonction AVG pour trouver la moyenne de la colonne area_water.\n",
    "\n",
    "        Travail à réaliser sur DB Browser puis sur jupyter Notebook\n"
   ]
  },
  {
   "cell_type": "code",
   "execution_count": 12,
   "id": "fe9cdb4d",
   "metadata": {},
   "outputs": [
    {
     "name": "stdout",
     "output_type": "stream",
     "text": [
      "128584834\n",
      "19067.59259259259\n"
     ]
    }
   ],
   "source": [
    "import sqlite3\n",
    "connexion = sqlite3.connect('factbook.db')\n",
    "\n",
    "total_area_land = connexion.execute('select sum(area_land) from facts;').fetchall()\n",
    "avg_area_water = connexion.execute('select avg(area_water) from facts;').fetchall()\n",
    "\n",
    "print(total_area_land[0][0])\n",
    "print(avg_area_water[0][0])"
   ]
  },
  {
   "cell_type": "code",
   "execution_count": null,
   "id": "55040df1",
   "metadata": {},
   "outputs": [],
   "source": []
  }
 ],
 "metadata": {
  "kernelspec": {
   "display_name": "Python 3 (ipykernel)",
   "language": "python",
   "name": "python3"
  },
  "language_info": {
   "codemirror_mode": {
    "name": "ipython",
    "version": 3
   },
   "file_extension": ".py",
   "mimetype": "text/x-python",
   "name": "python",
   "nbconvert_exporter": "python",
   "pygments_lexer": "ipython3",
   "version": "3.9.13"
  }
 },
 "nbformat": 4,
 "nbformat_minor": 5
}
