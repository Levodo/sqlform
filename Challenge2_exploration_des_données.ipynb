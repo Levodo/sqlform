{
 "cells": [
  {
   "cell_type": "markdown",
   "id": "62c8c3df",
   "metadata": {},
   "source": [
    "### Calcul de moyennes\n",
    "\n",
    "\n",
    "        . Calcul de moyennes sur la table facts de la base de données factbook.db\n",
    "        . En SQL, calculez les moyennes descolonnes population, population_growth, birth_rate, et death_rate.\n",
    "        . Puis en python exécuter cette requette SQL.\n",
    "        . Enfin récupérer les résultats dans les variables pop_avg, pop_growth_avg, birth_rate_avg et death_rate_avg et les afficher."
   ]
  },
  {
   "cell_type": "code",
   "execution_count": 1,
   "id": "a3e05ddf",
   "metadata": {},
   "outputs": [
    {
     "name": "stdout",
     "output_type": "stream",
     "text": [
      "62094928.32231405\n",
      "1.2009745762711865\n",
      "19.32855263157894\n",
      "7.8212719298245625\n"
     ]
    }
   ],
   "source": [
    "import sqlite3\n",
    "\n",
    "connexion = sqlite3.connect('factbook.db')\n",
    "averages = \"select avg(population), avg(population_growth), avg(birth_rate), avg(death_rate) from facts;\"\n",
    "\n",
    "avg_results = connexion.execute(averages).fetchall()\n",
    "pop_avg = avg_results[0][0]\n",
    "pop_growth_avg = avg_results[0][1]\n",
    "birth_rate_avg = avg_results[0][2]\n",
    "death_rate_avg = avg_results[0][3]\n",
    "\n",
    "print(pop_avg)\n",
    "print(pop_growth_avg)\n",
    "print(birth_rate_avg)\n",
    "print(death_rate_avg)\n"
   ]
  },
  {
   "cell_type": "markdown",
   "id": "ad9223a3",
   "metadata": {},
   "source": [
    "###  Trouver les valeurs extremes\n",
    "\n",
    "        . Calculer les valeurs minimales et maximales des colonnes population, population_growth, birth_rate et death_rate\n",
    "          (deux requetes SQL bien choisies)\n",
    "        . Assigner les bonnes valeurs aux variables pop_min, pop_max, pop_growth_min, pop_growth_max, birth_rate_min, \n",
    "          birth_rate_max, death_rate_min, death_rate_max."
   ]
  },
  {
   "cell_type": "code",
   "execution_count": 5,
   "id": "4634e4db",
   "metadata": {},
   "outputs": [],
   "source": [
    "minimums = \"select MIN(population), MIN(population_growth), MIN(birth_rate), MIN(death_rate) from facts;\"\n",
    "\n",
    "maximums = \"select MAX(population), MAX(population_growth), MAX(birth_rate), MAX(death_rate) from facts;\"\n",
    "\n",
    "min_results = connexion.execute(minimums).fetchall()\n",
    "max_results = connexion.execute(maximums).fetchall()\n",
    "\n",
    "pop_min = min_results[0][0]\n",
    "pop_max = max_results[0][0]\n",
    "\n",
    "pop_growth_min = min_results[0][1]\n",
    "pop_growth_max = max_results[0][1]\n",
    "\n",
    "birth_rate_min = min_results[0][2]\n",
    "birth_rate_max = max_results[0][2]\n",
    "\n",
    "death_rate_min = min_results[0][3]\n",
    "death_rate_max = max_results[0][3]"
   ]
  },
  {
   "cell_type": "code",
   "execution_count": 7,
   "id": "e7cfff37",
   "metadata": {},
   "outputs": [
    {
     "name": "stdout",
     "output_type": "stream",
     "text": [
      "[(0, 0.0, 6.65, 1.53)]\n",
      "[(7256490011, 4.02, 45.45, 14.89)]\n",
      "0\n",
      "7256490011\n",
      "0.0\n",
      "4.02\n",
      "6.65\n",
      "45.45\n",
      "1.53\n",
      "14.89\n"
     ]
    }
   ],
   "source": [
    "print(min_results)\n",
    "print(max_results)\n",
    "\n",
    "print(pop_min)\n",
    "print(pop_max)\n",
    "\n",
    "print(pop_growth_min)\n",
    "print(pop_growth_max)\n",
    "\n",
    "print(birth_rate_min)\n",
    "print(birth_rate_max)\n",
    "\n",
    "print(death_rate_min)\n",
    "print(death_rate_max)"
   ]
  },
  {
   "cell_type": "markdown",
   "id": "9fc297db",
   "metadata": {},
   "source": [
    "### Filtrer les valeurs\n",
    "\n",
    "        . Ecrire une requete SQL qui retourne les minimums et maximums des valeurs des colonnes suivantes (pour lesquelles\n",
    "          la colonne population est inférieure à 2 milliards et supérieure à 0): population, population_growth,                           birth_rate, et death_rate.\n",
    "       .  Assigner les résultats aux variables correspondantes suivantes: pop_min, pop_max, pop_growth_min, pop_growth_max,\n",
    "          birth_rate_min, birth_rate_max, death_rate_min, death_rate_max."
   ]
  },
  {
   "cell_type": "code",
   "execution_count": 2,
   "id": "d42ae06c",
   "metadata": {},
   "outputs": [],
   "source": [
    "min_and_max = \"select min(population), max(population), min(population_growth), max(population_growth), min(birth_rate), max(birth_rate), min(death_rate), max(death_rate) from facts where population > 0 and population < 2000000000;\"\n",
    "\n",
    "results = connexion.execute(min_and_max).fetchall()\n",
    "\n",
    "pop_min = results[0][0]\n",
    "pop_max = results[0][1]\n",
    "pop_growth_min = results[0][2]\n",
    "pop_growth_max = results[0][3]\n",
    "birth_rate_min = results[0][4]\n",
    "birth_rate_max = results[0][5]\n",
    "death_rate_min = results[0][6]\n",
    "death_rate_max = results[0][7]"
   ]
  },
  {
   "cell_type": "code",
   "execution_count": 3,
   "id": "4357c755",
   "metadata": {},
   "outputs": [
    {
     "name": "stdout",
     "output_type": "stream",
     "text": [
      "48\n",
      "1367485388\n",
      "0.0\n",
      "4.02\n",
      "6.65\n",
      "45.45\n",
      "1.53\n",
      "14.89\n"
     ]
    }
   ],
   "source": [
    "print(pop_min)\n",
    "print(pop_max)\n",
    "print(pop_growth_min)\n",
    "print(pop_growth_max)\n",
    "print(birth_rate_min)\n",
    "print(birth_rate_max)\n",
    "print(death_rate_min)\n",
    "print(death_rate_max)"
   ]
  },
  {
   "cell_type": "markdown",
   "id": "c8dfa51d",
   "metadata": {},
   "source": [
    "### Prédire la future croissance démographique\n",
    "\n",
    "  . Retourner les valeurs de la population estimée l'année suivante en prenant en compte les remarques suivantes:\n",
    "  \n",
    "      . Arrondir les valeurs à l'entier près(valeurs non décimales)\n",
    "      . Filtrer les lignes contenant des valeurs NULL comme valeur pour les colonnes population ou                                     population_growth(population is not null)\n",
    "      . Restreindre la requete aux pays ayant une population inférieur à 7 milliards et supérieur à 0\n",
    "   \n",
    "   . Assigner les résultats à la variable projected_population.\n",
    "   . Afficher les 10 premières valeurs du résultat."
   ]
  },
  {
   "cell_type": "code",
   "execution_count": null,
   "id": "bee73087",
   "metadata": {},
   "outputs": [],
   "source": []
  }
 ],
 "metadata": {
  "kernelspec": {
   "display_name": "Python 3 (ipykernel)",
   "language": "python",
   "name": "python3"
  },
  "language_info": {
   "codemirror_mode": {
    "name": "ipython",
    "version": 3
   },
   "file_extension": ".py",
   "mimetype": "text/x-python",
   "name": "python",
   "nbconvert_exporter": "python",
   "pygments_lexer": "ipython3",
   "version": "3.9.13"
  }
 },
 "nbformat": 4,
 "nbformat_minor": 5
}
